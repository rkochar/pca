{
 "cells": [
  {
   "cell_type": "code",
   "execution_count": null,
   "id": "96ca5691-059f-4ead-acb7-bc448d51107b",
   "metadata": {},
   "outputs": [],
   "source": [
    "import zipfile\n",
    "import cv2\n",
    "import numpy as np\n",
    "import matplotlib.pyplot as plt\n",
    "from sklearn.decomposition import PCA"
   ]
  },
  {
   "cell_type": "code",
   "execution_count": null,
   "id": "d450730f-8b5d-4b3a-bf6a-ce4a6b407d5e",
   "metadata": {},
   "outputs": [],
   "source": [
    "# Read face image from zip file on the fly\n",
    "faces = {}\n",
    "with zipfile.ZipFile(\"archive.zip\") as facezip:\n",
    "    for filename in facezip.namelist():\n",
    "        if not filename.endswith(\".pgm\"):\n",
    "            continue # not a face picture\n",
    "        with facezip.open(filename) as image:\n",
    "            # If we extracted files from zip, we can use cv2.imread(filename) instead\n",
    "            faces[filename] = cv2.imdecode(np.frombuffer(image.read(), np.uint8), cv2.IMREAD_GRAYSCALE)"
   ]
  },
  {
   "cell_type": "code",
   "execution_count": null,
   "id": "730429aa-24fb-424d-9df3-ffc8d9bd00c6",
   "metadata": {},
   "outputs": [],
   "source": [
    "len(faces['s1/1.pgm'][0])"
   ]
  },
  {
   "cell_type": "code",
   "execution_count": null,
   "id": "d52ecbdf-f141-452c-acd2-c87885c60da4",
   "metadata": {},
   "outputs": [],
   "source": [
    "# Show sample faces using matplotlib\n",
    "fig, axes = plt.subplots(4,4,sharex=True,sharey=True,figsize=(8,10))\n",
    "faceimages = list(faces.values())[-16:] # take last 16 images\n",
    "for i in range(16):\n",
    "    axes[i%4][i//4].imshow(faceimages[i], cmap=\"gray\")\n",
    "print(\"Showing sample faces\")\n",
    "plt.show()"
   ]
  },
  {
   "cell_type": "code",
   "execution_count": null,
   "id": "dc387981-cf07-4b47-a27d-c0a86d01e7c2",
   "metadata": {},
   "outputs": [],
   "source": [
    "# Print some details\n",
    "faceshape = list(faces.values())[0].shape\n",
    "print(\"Face image shape:\", faceshape)\n",
    "\n",
    "classes = set(filename.split(\"/\")[0] for filename in faces.keys())\n",
    "print(\"Number of classes:\", len(classes))\n",
    "print(\"Number of images:\", len(faces))"
   ]
  },
  {
   "cell_type": "code",
   "execution_count": null,
   "id": "28a8a1d3-94f3-4a0d-a9e8-17d0c8d18ce8",
   "metadata": {},
   "outputs": [],
   "source": [
    "# Take classes 1-39 for eigenfaces, keep entire class 40 and\n",
    "# image 10 of class 39 as out-of-sample test\n",
    "facematrix = []\n",
    "facelabel = []\n",
    "for key,val in faces.items():\n",
    "    if key.startswith(\"s40/\"):\n",
    "        continue # this is our test set\n",
    "    if key == \"s39/10.pgm\":\n",
    "        continue # this is our test set\n",
    "    facematrix.append(val.flatten())\n",
    "    facelabel.append(key.split(\"/\")[0])\n",
    "\n",
    "# Create a NxM matrix with N images and M pixels per image\n",
    "facematrix = np.array(facematrix)\n",
    "\n",
    "# Apply PCA and take first K principal components as eigenfaces\n",
    "pca = PCA().fit(facematrix)\n",
    "\n",
    "n_components = 50\n",
    "eigenfaces = pca.components_[:n_components]\n",
    "\n",
    "# Show the first 16 eigenfaces\n",
    "fig, axes = plt.subplots(4,4,sharex=True,sharey=True,figsize=(8,10))\n",
    "for i in range(16):\n",
    "    axes[i%4][i//4].imshow(eigenfaces[i].reshape(faceshape), cmap=\"gray\")\n",
    "print(\"Showing the eigenfaces\")\n",
    "plt.show()"
   ]
  },
  {
   "cell_type": "code",
   "execution_count": null,
   "id": "137cd95f-5d50-4e67-b352-de6b32f013d2",
   "metadata": {},
   "outputs": [],
   "source": [
    "# Generate weights as a KxN matrix where K is the number of eigenfaces and N the number of samples\n",
    "weights = eigenfaces @ (facematrix - pca.mean_).T\n",
    "print(\"Shape of the weight matrix:\", weights.shape)"
   ]
  },
  {
   "cell_type": "code",
   "execution_count": null,
   "id": "d76e5c5d-c48a-4378-aec1-82028c4c0139",
   "metadata": {},
   "outputs": [],
   "source": [
    "# Test on out-of-sample image of existing class\n",
    "query = faces[\"s39/10.pgm\"].reshape(1,-1)\n",
    "query_weight = eigenfaces @ (query - pca.mean_).T\n",
    "euclidean_distance = np.linalg.norm(weights - query_weight, axis=0)\n",
    "best_match = np.argmin(euclidean_distance)\n",
    "print(\"Best match %s with Euclidean distance %f\" % (facelabel[best_match], euclidean_distance[best_match]))"
   ]
  },
  {
   "cell_type": "code",
   "execution_count": null,
   "id": "cc4c75b2-d6ed-483d-8ed8-a4d393a54c7d",
   "metadata": {},
   "outputs": [],
   "source": [
    "# Visualize\n",
    "fig, axes = plt.subplots(1,2,sharex=True,sharey=True,figsize=(8,6))\n",
    "axes[0].imshow(query.reshape(faceshape), cmap=\"gray\")\n",
    "axes[0].set_title(\"Query\")\n",
    "axes[1].imshow(facematrix[best_match].reshape(faceshape), cmap=\"gray\")\n",
    "axes[1].set_title(\"Best match\")\n",
    "plt.show()"
   ]
  },
  {
   "cell_type": "code",
   "execution_count": null,
   "id": "391044a0-b77e-453f-aa71-63ba359035db",
   "metadata": {},
   "outputs": [],
   "source": [
    "# Test on out-of-sample image of new class\n",
    "query = faces[\"s40/1.pgm\"].reshape(1,-1)\n",
    "query_weight = eigenfaces @ (query - pca.mean_).T\n",
    "euclidean_distance = np.linalg.norm(weights - query_weight, axis=0)\n",
    "best_match = np.argmin(euclidean_distance)\n",
    "print(\"Best match %s with Euclidean distance %f\" % (facelabel[best_match], euclidean_distance[best_match]))"
   ]
  },
  {
   "cell_type": "code",
   "execution_count": null,
   "id": "8668e7e2-46d8-428e-9bf4-adb39737b907",
   "metadata": {},
   "outputs": [],
   "source": [
    "# Visualize\n",
    "fig, axes = plt.subplots(1,2,sharex=True,sharey=True,figsize=(8,6))\n",
    "axes[0].imshow(query.reshape(faceshape), cmap=\"gray\")\n",
    "axes[0].set_title(\"Query\")\n",
    "axes[1].imshow(facematrix[best_match].reshape(faceshape), cmap=\"gray\")\n",
    "axes[1].set_title(\"Best match\")\n",
    "plt.show()"
   ]
  },
  {
   "cell_type": "code",
   "execution_count": null,
   "id": "0dc5d66d-e5ae-462d-a9cf-b97aeb9fec20",
   "metadata": {},
   "outputs": [],
   "source": []
  }
 ],
 "metadata": {
  "kernelspec": {
   "display_name": "Python 3 (ipykernel)",
   "language": "python",
   "name": "python3"
  },
  "language_info": {
   "codemirror_mode": {
    "name": "ipython",
    "version": 3
   },
   "file_extension": ".py",
   "mimetype": "text/x-python",
   "name": "python",
   "nbconvert_exporter": "python",
   "pygments_lexer": "ipython3",
   "version": "3.11.3"
  }
 },
 "nbformat": 4,
 "nbformat_minor": 5
}
